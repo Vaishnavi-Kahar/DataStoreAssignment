{
  "nbformat": 4,
  "nbformat_minor": 0,
  "metadata": {
    "colab": {
      "provenance": []
    },
    "kernelspec": {
      "name": "python3",
      "display_name": "Python 3"
    },
    "language_info": {
      "name": "python"
    }
  },
  "cells": [
    {
      "cell_type": "markdown",
      "source": [
        "`csv.DictReader(file)` is used to create a reader object that interprets each row of the CSV file as a dictionary where keys are column headers.\n",
        "\n",
        "\n",
        "inside `read_csv_filtered`, there's a nested function `evaluate_filter(row, filter_expr)` that takes a row (dictionary) from the CSV and evaluates it against the `filter_expression`.\n",
        "`ast.literal_eval(filter_expr)` is used within evaluate_filter to safely evaluate the filter_expression as a Python literal expression, preventing execution of arbitrary code.\n",
        "\n",
        "\n",
        "As the CSV file is read row by row , each row is passed through `evaluate_filter `to check if it satisfies the `filter_expression`.\n",
        "\n",
        "Rows that pass the filter are appended to `filtered_rows`.\n",
        "\n",
        "After filtering, pagination is handled:\n",
        "`start_idx` and `end_idx` are calculated based on `page_number` and `page_size`.\n",
        "paginated_rows is created by slicing filtered_rows using `start_idx` and `end_idx`.\n"
      ],
      "metadata": {
        "id": "wAZE_1TYGRUt"
      }
    },
    {
      "cell_type": "code",
      "source": [
        "import csv\n",
        "import ast\n",
        "\n",
        "def read_csv_filtered(csv_file, filter_expression, page_number, page_size=10):\n",
        "    # Function to evaluate the filter expression against each row\n",
        "    def evaluate_filter(row, filter_expr):\n",
        "        # Using ast.literal_eval to safely evaluate the filter expression\n",
        "        return eval(filter_expr)\n",
        "\n",
        "    # Read CSV file\n",
        "    with open(csv_file, 'r', newline='') as file:\n",
        "        reader = csv.DictReader(file)\n",
        "        filtered_rows = []\n",
        "\n",
        "        # Iterate through each row and apply the filter\n",
        "        for row in reader:\n",
        "            # Evaluate filter expression against the current row\n",
        "            if evaluate_filter(row, filter_expression):\n",
        "                filtered_rows.append(row)\n",
        "\n",
        "        # Pagination\n",
        "        start_idx = (page_number - 1) * page_size\n",
        "        end_idx = start_idx + page_size\n",
        "        paginated_rows = filtered_rows[start_idx:end_idx]\n",
        "\n",
        "        return paginated_rows\n"
      ],
      "metadata": {
        "id": "ZYs11f7_EJXA"
      },
      "execution_count": 1,
      "outputs": []
    },
    {
      "cell_type": "code",
      "source": [
        "# Example usage:\n",
        "if __name__ == \"__main__\":\n",
        "    csv_file_path = 'example.csv'\n",
        "    filter_expression = \"((row['name'] == 'John') or (row['city'] == 'Chicago')or(row['age']==30))\"\n",
        "    page_number = 1\n",
        "\n",
        "    filtered_rows = read_csv_filtered(csv_file_path, filter_expression, page_number, page_size=10)\n",
        "    for row in filtered_rows:\n",
        "        print(row)"
      ],
      "metadata": {
        "colab": {
          "base_uri": "https://localhost:8080/"
        },
        "id": "DvHyIff7FN7e",
        "outputId": "3614a183-b290-4eb6-b509-27b45b1dd422"
      },
      "execution_count": 10,
      "outputs": [
        {
          "output_type": "stream",
          "name": "stdout",
          "text": [
            "{'id': '1', 'name': 'John', 'age': '30', 'city': 'New York'}\n",
            "{'id': '3', 'name': 'Michael', 'age': '35', 'city': 'Chicago'}\n"
          ]
        }
      ]
    },
    {
      "cell_type": "code",
      "source": [],
      "metadata": {
        "id": "OjfC6SjnFPBw"
      },
      "execution_count": null,
      "outputs": []
    }
  ]
}